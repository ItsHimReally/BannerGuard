{
  "cells": [
    {
      "cell_type": "code",
      "execution_count": null,
      "metadata": {
        "id": "MDJf8rbupp7t"
      },
      "outputs": [],
      "source": [
        "!gdown 1r_KmPlYg_s2goHu1pOvSWZOKYMQxlCuP\n",
        "!gdown 1osE3vJr_CHwbk8CeX3tBcLNJv4btcgaw\n",
        "!gdown 1afdjwNCyk4s5FIOuiM6_3eg531J5cviX\n",
        "\n",
        "!unzip 'imgs-for-ai.zip'\n",
        "!unzip 'imgs-for-ai-part-2.zip'"
      ]
    },
    {
      "cell_type": "code",
      "execution_count": null,
      "metadata": {
        "colab": {
          "base_uri": "https://localhost:8080/"
        },
        "id": "cj7qdYbiabBl",
        "outputId": "916aeb6b-d271-48a7-af5b-82729bd0dd8f"
      },
      "outputs": [
        {
          "output_type": "stream",
          "name": "stdout",
          "text": [
            "Collecting torcheval\n",
            "  Downloading torcheval-0.0.7-py3-none-any.whl.metadata (8.6 kB)\n",
            "Requirement already satisfied: typing-extensions in /usr/local/lib/python3.10/dist-packages (from torcheval) (4.12.2)\n",
            "Downloading torcheval-0.0.7-py3-none-any.whl (179 kB)\n",
            "\u001b[?25l   \u001b[90m━━━━━━━━━━━━━━━━━━━━━━━━━━━━━━━━━━━━━━━━\u001b[0m \u001b[32m0.0/179.2 kB\u001b[0m \u001b[31m?\u001b[0m eta \u001b[36m-:--:--\u001b[0m\r\u001b[2K   \u001b[90m━━━━━━━━━━━━━━━━━━━━━━━━━━━━━━━━━━━━━━━━\u001b[0m \u001b[32m179.2/179.2 kB\u001b[0m \u001b[31m5.1 MB/s\u001b[0m eta \u001b[36m0:00:00\u001b[0m\n",
            "\u001b[?25hInstalling collected packages: torcheval\n",
            "Successfully installed torcheval-0.0.7\n"
          ]
        }
      ],
      "source": [
        "!pip install torcheval"
      ]
    },
    {
      "cell_type": "code",
      "execution_count": null,
      "metadata": {
        "colab": {
          "base_uri": "https://localhost:8080/"
        },
        "id": "k8RsVdqXg2lb",
        "outputId": "281e2695-3319-47bd-eed2-0597c4633608"
      },
      "outputs": [
        {
          "output_type": "execute_result",
          "data": {
            "text/plain": [
              "device(type='cuda')"
            ]
          },
          "metadata": {},
          "execution_count": 3
        }
      ],
      "source": [
        "import torch\n",
        "from torcheval.metrics.functional import multiclass_f1_score\n",
        "import pandas as pd\n",
        "import numpy as np\n",
        "import matplotlib.pyplot as plt\n",
        "import torchvision.transforms as T\n",
        "from torch.utils.data import random_split\n",
        "from PIL import Image\n",
        "from torchvision import transforms\n",
        "from tqdm.auto import tqdm\n",
        "import torch.optim as optim\n",
        "import os\n",
        "import torch\n",
        "import torch.nn as nn\n",
        "import torchvision.models as models\n",
        "\n",
        "device = torch.device(\"cuda\" if torch.cuda.is_available() else \"cpu\")\n",
        "device"
      ]
    },
    {
      "cell_type": "code",
      "execution_count": null,
      "metadata": {
        "id": "O_-ute9waPdK"
      },
      "outputs": [],
      "source": [
        "targets = pd.read_csv('/content/ classifier_targets.csv', header=None)"
      ]
    },
    {
      "cell_type": "code",
      "execution_count": null,
      "metadata": {
        "id": "NB2eRbndp0fZ"
      },
      "outputs": [],
      "source": [
        "class Dataset(torch.utils.data.Dataset):\n",
        "    def __init__(self, data, fact_def_path='/', target_def_path='/', transform=None):\n",
        "        self.target_paths = [data.iloc[i, 1] for i in range(len(data))]\n",
        "        self.fact_paths = [data.iloc[i, 0] for i in range(len(data))]\n",
        "        self.labels = [data.iloc[i, 2] for i in range(len(data))]\n",
        "        self.fact_def_path = fact_def_path\n",
        "        self.target_def_path = target_def_path\n",
        "        self.transform = transform\n",
        "\n",
        "    def __len__(self):\n",
        "        return len(self.labels)\n",
        "\n",
        "    def __getitem__(self, idx):\n",
        "        target_img = Image.open(self.target_def_path + self.target_paths[idx])\n",
        "        fact_img = Image.open(self.fact_def_path + self.fact_paths[idx])\n",
        "\n",
        "        target_img = self.transform(target_img)\n",
        "        fact_img = self.transform(fact_img)\n",
        "\n",
        "        transform = transforms.ToTensor()\n",
        "        target_img = transform(target_img)\n",
        "        fact_img = transform(fact_img)\n",
        "\n",
        "        if target_img.shape[0] == 4:\n",
        "            target_img = target_img[:-1]\n",
        "        if fact_img.shape[0] == 4:\n",
        "            fact_img = fact_img[:-1]\n",
        "\n",
        "        y = self.labels[idx]\n",
        "\n",
        "        return target_img, fact_img, y"
      ]
    },
    {
      "cell_type": "code",
      "execution_count": null,
      "metadata": {
        "id": "m15aEJ_6qqXs"
      },
      "outputs": [],
      "source": [
        "image_size = (256, 256)\n",
        "\n",
        "transform = transforms.Compose([\n",
        "    transforms.Resize(image_size),\n",
        "])"
      ]
    },
    {
      "cell_type": "code",
      "execution_count": null,
      "metadata": {
        "id": "yq5mbaTjfA9y"
      },
      "outputs": [],
      "source": [
        "batch_size = 32\n",
        "\n",
        "dataset = Dataset(targets, fact_def_path='/content/imgs/', target_def_path='/content/contents/', transform=transform)\n",
        "\n",
        "train_data, val_data = random_split(dataset, [0.99, 0.01])\n",
        "\n",
        "train_loader = torch.utils.data.DataLoader(train_data, batch_size=batch_size, shuffle=True)\n",
        "val_loader = torch.utils.data.DataLoader(val_data, batch_size=batch_size, shuffle=True)"
      ]
    },
    {
      "cell_type": "code",
      "execution_count": null,
      "metadata": {
        "id": "ItMME1y9ht7-"
      },
      "outputs": [],
      "source": [
        "class DualResNet18Classifier(nn.Module):\n",
        "    def __init__(self):\n",
        "        super(DualResNet18Classifier, self).__init__()\n",
        "\n",
        "        efficientnet = models.efficientnet_b0(pretrained=True)\n",
        "\n",
        "        self.feature_extractor = nn.Sequential(*list(efficientnet.children())[:-1])\n",
        "\n",
        "        self.fc = nn.Sequential(\n",
        "            nn.Linear(2560, 256),\n",
        "            nn.ReLU(),\n",
        "            nn.Linear(256, 1),\n",
        "            nn.Sigmoid()\n",
        "        )\n",
        "\n",
        "    def forward(self, img1, img2):\n",
        "        feat1 = self.feature_extractor(img1)\n",
        "        feat2 = self.feature_extractor(img2)\n",
        "\n",
        "        feat1 = feat1.view(feat1.size(0), -1)\n",
        "        feat2 = feat2.view(feat2.size(0), -1)\n",
        "\n",
        "        combined_features = torch.cat((feat1, feat2), dim=1)\n",
        "        output = self.fc(combined_features)\n",
        "\n",
        "        return output\n",
        "\n",
        "model = DualResNet18Classifier()\n",
        "model.to(device)\n",
        "pass"
      ]
    },
    {
      "cell_type": "code",
      "execution_count": null,
      "metadata": {
        "colab": {
          "base_uri": "https://localhost:8080/",
          "height": 483,
          "referenced_widgets": [
            "07b133d6f0ff4025b8b2898d027b20a3",
            "7aaca63bcded403dafd931839a62c44f",
            "b6cbf1bf874b4e3eb0109443dbeb6831",
            "da62b2e410694adf9a7ba2a08b1d2a1e",
            "16d2167bd51d45498857a0eeb1bcb240",
            "e7bd707864ec40028a6054a64429b4fb",
            "ddd602ab32cc4af8b03c8eca63f962c1",
            "70e22225453c47f388b86a7b4f0ea8f0",
            "306eee93912b4199bdc2fe93d0fc0553",
            "3babbf3dce2046999e18654d11d68c6e",
            "4c7a477a6e5349418d7715602a94cfd5"
          ]
        },
        "id": "wv7JPuiejfX7",
        "outputId": "68a6a0fc-552c-4019-cff4-38bde90989eb"
      },
      "outputs": [
        {
          "output_type": "display_data",
          "data": {
            "text/plain": [
              "  0%|          | 0/25 [00:00<?, ?it/s]"
            ],
            "application/vnd.jupyter.widget-view+json": {
              "version_major": 2,
              "version_minor": 0,
              "model_id": "07b133d6f0ff4025b8b2898d027b20a3"
            }
          },
          "metadata": {}
        },
        {
          "output_type": "stream",
          "name": "stdout",
          "text": [
            "Epoch [1/25], Loss: 0.6310\n",
            "Epoch [2/25], Loss: 0.4022\n",
            "Epoch [3/25], Loss: 0.4396\n",
            "Epoch [4/25], Loss: 0.2293\n",
            "Epoch [5/25], Loss: 0.2369\n",
            "Epoch [6/25], Loss: 0.2381\n",
            "Epoch [7/25], Loss: 0.1331\n",
            "Epoch [8/25], Loss: 0.2402\n",
            "Epoch [9/25], Loss: 0.2031\n",
            "Epoch [10/25], Loss: 0.1544\n",
            "Epoch [11/25], Loss: 0.1631\n",
            "Epoch [12/25], Loss: 0.1457\n",
            "Epoch [13/25], Loss: 0.1497\n",
            "Epoch [14/25], Loss: 0.1450\n",
            "Epoch [15/25], Loss: 0.1011\n",
            "Epoch [16/25], Loss: 0.1498\n",
            "Epoch [17/25], Loss: 0.1298\n",
            "Epoch [18/25], Loss: 0.0933\n",
            "Epoch [19/25], Loss: 0.0599\n",
            "Epoch [20/25], Loss: 0.0848\n",
            "Epoch [21/25], Loss: 0.0958\n",
            "Epoch [22/25], Loss: 0.1191\n",
            "Epoch [23/25], Loss: 0.0971\n",
            "Epoch [24/25], Loss: 0.0363\n",
            "Epoch [25/25], Loss: 0.0740\n"
          ]
        }
      ],
      "source": [
        "num_epochs = 25\n",
        "\n",
        "criterion = nn.BCELoss()\n",
        "optimizer = optim.Adam(model.parameters(), lr=0.003)\n",
        "\n",
        "for epoch in tqdm(range(num_epochs)):\n",
        "    model.train()\n",
        "    running_loss = 0.0\n",
        "\n",
        "    for img1, img2, labels in train_loader:\n",
        "        img1, img2, labels = img1.to(device), img2.to(device), labels.to(device)\n",
        "\n",
        "        optimizer.zero_grad()\n",
        "\n",
        "        outputs = model(img1, img2).squeeze()\n",
        "        loss = criterion(outputs, labels.float())\n",
        "\n",
        "        loss.backward()\n",
        "        optimizer.step()\n",
        "\n",
        "        running_loss += loss.item() * img1.size(0)\n",
        "\n",
        "    epoch_loss = running_loss / len(train_loader.dataset)\n",
        "    print(f'Epoch [{epoch+1}/{num_epochs}], Loss: {epoch_loss:.4f}')"
      ]
    },
    {
      "cell_type": "code",
      "execution_count": null,
      "metadata": {
        "id": "VQURuSbYjt0y"
      },
      "outputs": [],
      "source": [
        "torch.save(model.state_dict(), 'classifier_model.pt')"
      ]
    },
    {
      "cell_type": "code",
      "execution_count": null,
      "metadata": {
        "id": "sPOCet5-oGCk"
      },
      "outputs": [],
      "source": []
    }
  ],
  "metadata": {
    "accelerator": "GPU",
    "colab": {
      "gpuType": "T4",
      "provenance": []
    },
    "kernelspec": {
      "display_name": "Python 3",
      "name": "python3"
    },
    "language_info": {
      "name": "python"
    },
    "widgets": {
      "application/vnd.jupyter.widget-state+json": {
        "07b133d6f0ff4025b8b2898d027b20a3": {
          "model_module": "@jupyter-widgets/controls",
          "model_name": "HBoxModel",
          "model_module_version": "1.5.0",
          "state": {
            "_dom_classes": [],
            "_model_module": "@jupyter-widgets/controls",
            "_model_module_version": "1.5.0",
            "_model_name": "HBoxModel",
            "_view_count": null,
            "_view_module": "@jupyter-widgets/controls",
            "_view_module_version": "1.5.0",
            "_view_name": "HBoxView",
            "box_style": "",
            "children": [
              "IPY_MODEL_7aaca63bcded403dafd931839a62c44f",
              "IPY_MODEL_b6cbf1bf874b4e3eb0109443dbeb6831",
              "IPY_MODEL_da62b2e410694adf9a7ba2a08b1d2a1e"
            ],
            "layout": "IPY_MODEL_16d2167bd51d45498857a0eeb1bcb240"
          }
        },
        "7aaca63bcded403dafd931839a62c44f": {
          "model_module": "@jupyter-widgets/controls",
          "model_name": "HTMLModel",
          "model_module_version": "1.5.0",
          "state": {
            "_dom_classes": [],
            "_model_module": "@jupyter-widgets/controls",
            "_model_module_version": "1.5.0",
            "_model_name": "HTMLModel",
            "_view_count": null,
            "_view_module": "@jupyter-widgets/controls",
            "_view_module_version": "1.5.0",
            "_view_name": "HTMLView",
            "description": "",
            "description_tooltip": null,
            "layout": "IPY_MODEL_e7bd707864ec40028a6054a64429b4fb",
            "placeholder": "​",
            "style": "IPY_MODEL_ddd602ab32cc4af8b03c8eca63f962c1",
            "value": "100%"
          }
        },
        "b6cbf1bf874b4e3eb0109443dbeb6831": {
          "model_module": "@jupyter-widgets/controls",
          "model_name": "FloatProgressModel",
          "model_module_version": "1.5.0",
          "state": {
            "_dom_classes": [],
            "_model_module": "@jupyter-widgets/controls",
            "_model_module_version": "1.5.0",
            "_model_name": "FloatProgressModel",
            "_view_count": null,
            "_view_module": "@jupyter-widgets/controls",
            "_view_module_version": "1.5.0",
            "_view_name": "ProgressView",
            "bar_style": "success",
            "description": "",
            "description_tooltip": null,
            "layout": "IPY_MODEL_70e22225453c47f388b86a7b4f0ea8f0",
            "max": 25,
            "min": 0,
            "orientation": "horizontal",
            "style": "IPY_MODEL_306eee93912b4199bdc2fe93d0fc0553",
            "value": 25
          }
        },
        "da62b2e410694adf9a7ba2a08b1d2a1e": {
          "model_module": "@jupyter-widgets/controls",
          "model_name": "HTMLModel",
          "model_module_version": "1.5.0",
          "state": {
            "_dom_classes": [],
            "_model_module": "@jupyter-widgets/controls",
            "_model_module_version": "1.5.0",
            "_model_name": "HTMLModel",
            "_view_count": null,
            "_view_module": "@jupyter-widgets/controls",
            "_view_module_version": "1.5.0",
            "_view_name": "HTMLView",
            "description": "",
            "description_tooltip": null,
            "layout": "IPY_MODEL_3babbf3dce2046999e18654d11d68c6e",
            "placeholder": "​",
            "style": "IPY_MODEL_4c7a477a6e5349418d7715602a94cfd5",
            "value": " 25/25 [02:47&lt;00:00,  6.64s/it]"
          }
        },
        "16d2167bd51d45498857a0eeb1bcb240": {
          "model_module": "@jupyter-widgets/base",
          "model_name": "LayoutModel",
          "model_module_version": "1.2.0",
          "state": {
            "_model_module": "@jupyter-widgets/base",
            "_model_module_version": "1.2.0",
            "_model_name": "LayoutModel",
            "_view_count": null,
            "_view_module": "@jupyter-widgets/base",
            "_view_module_version": "1.2.0",
            "_view_name": "LayoutView",
            "align_content": null,
            "align_items": null,
            "align_self": null,
            "border": null,
            "bottom": null,
            "display": null,
            "flex": null,
            "flex_flow": null,
            "grid_area": null,
            "grid_auto_columns": null,
            "grid_auto_flow": null,
            "grid_auto_rows": null,
            "grid_column": null,
            "grid_gap": null,
            "grid_row": null,
            "grid_template_areas": null,
            "grid_template_columns": null,
            "grid_template_rows": null,
            "height": null,
            "justify_content": null,
            "justify_items": null,
            "left": null,
            "margin": null,
            "max_height": null,
            "max_width": null,
            "min_height": null,
            "min_width": null,
            "object_fit": null,
            "object_position": null,
            "order": null,
            "overflow": null,
            "overflow_x": null,
            "overflow_y": null,
            "padding": null,
            "right": null,
            "top": null,
            "visibility": null,
            "width": null
          }
        },
        "e7bd707864ec40028a6054a64429b4fb": {
          "model_module": "@jupyter-widgets/base",
          "model_name": "LayoutModel",
          "model_module_version": "1.2.0",
          "state": {
            "_model_module": "@jupyter-widgets/base",
            "_model_module_version": "1.2.0",
            "_model_name": "LayoutModel",
            "_view_count": null,
            "_view_module": "@jupyter-widgets/base",
            "_view_module_version": "1.2.0",
            "_view_name": "LayoutView",
            "align_content": null,
            "align_items": null,
            "align_self": null,
            "border": null,
            "bottom": null,
            "display": null,
            "flex": null,
            "flex_flow": null,
            "grid_area": null,
            "grid_auto_columns": null,
            "grid_auto_flow": null,
            "grid_auto_rows": null,
            "grid_column": null,
            "grid_gap": null,
            "grid_row": null,
            "grid_template_areas": null,
            "grid_template_columns": null,
            "grid_template_rows": null,
            "height": null,
            "justify_content": null,
            "justify_items": null,
            "left": null,
            "margin": null,
            "max_height": null,
            "max_width": null,
            "min_height": null,
            "min_width": null,
            "object_fit": null,
            "object_position": null,
            "order": null,
            "overflow": null,
            "overflow_x": null,
            "overflow_y": null,
            "padding": null,
            "right": null,
            "top": null,
            "visibility": null,
            "width": null
          }
        },
        "ddd602ab32cc4af8b03c8eca63f962c1": {
          "model_module": "@jupyter-widgets/controls",
          "model_name": "DescriptionStyleModel",
          "model_module_version": "1.5.0",
          "state": {
            "_model_module": "@jupyter-widgets/controls",
            "_model_module_version": "1.5.0",
            "_model_name": "DescriptionStyleModel",
            "_view_count": null,
            "_view_module": "@jupyter-widgets/base",
            "_view_module_version": "1.2.0",
            "_view_name": "StyleView",
            "description_width": ""
          }
        },
        "70e22225453c47f388b86a7b4f0ea8f0": {
          "model_module": "@jupyter-widgets/base",
          "model_name": "LayoutModel",
          "model_module_version": "1.2.0",
          "state": {
            "_model_module": "@jupyter-widgets/base",
            "_model_module_version": "1.2.0",
            "_model_name": "LayoutModel",
            "_view_count": null,
            "_view_module": "@jupyter-widgets/base",
            "_view_module_version": "1.2.0",
            "_view_name": "LayoutView",
            "align_content": null,
            "align_items": null,
            "align_self": null,
            "border": null,
            "bottom": null,
            "display": null,
            "flex": null,
            "flex_flow": null,
            "grid_area": null,
            "grid_auto_columns": null,
            "grid_auto_flow": null,
            "grid_auto_rows": null,
            "grid_column": null,
            "grid_gap": null,
            "grid_row": null,
            "grid_template_areas": null,
            "grid_template_columns": null,
            "grid_template_rows": null,
            "height": null,
            "justify_content": null,
            "justify_items": null,
            "left": null,
            "margin": null,
            "max_height": null,
            "max_width": null,
            "min_height": null,
            "min_width": null,
            "object_fit": null,
            "object_position": null,
            "order": null,
            "overflow": null,
            "overflow_x": null,
            "overflow_y": null,
            "padding": null,
            "right": null,
            "top": null,
            "visibility": null,
            "width": null
          }
        },
        "306eee93912b4199bdc2fe93d0fc0553": {
          "model_module": "@jupyter-widgets/controls",
          "model_name": "ProgressStyleModel",
          "model_module_version": "1.5.0",
          "state": {
            "_model_module": "@jupyter-widgets/controls",
            "_model_module_version": "1.5.0",
            "_model_name": "ProgressStyleModel",
            "_view_count": null,
            "_view_module": "@jupyter-widgets/base",
            "_view_module_version": "1.2.0",
            "_view_name": "StyleView",
            "bar_color": null,
            "description_width": ""
          }
        },
        "3babbf3dce2046999e18654d11d68c6e": {
          "model_module": "@jupyter-widgets/base",
          "model_name": "LayoutModel",
          "model_module_version": "1.2.0",
          "state": {
            "_model_module": "@jupyter-widgets/base",
            "_model_module_version": "1.2.0",
            "_model_name": "LayoutModel",
            "_view_count": null,
            "_view_module": "@jupyter-widgets/base",
            "_view_module_version": "1.2.0",
            "_view_name": "LayoutView",
            "align_content": null,
            "align_items": null,
            "align_self": null,
            "border": null,
            "bottom": null,
            "display": null,
            "flex": null,
            "flex_flow": null,
            "grid_area": null,
            "grid_auto_columns": null,
            "grid_auto_flow": null,
            "grid_auto_rows": null,
            "grid_column": null,
            "grid_gap": null,
            "grid_row": null,
            "grid_template_areas": null,
            "grid_template_columns": null,
            "grid_template_rows": null,
            "height": null,
            "justify_content": null,
            "justify_items": null,
            "left": null,
            "margin": null,
            "max_height": null,
            "max_width": null,
            "min_height": null,
            "min_width": null,
            "object_fit": null,
            "object_position": null,
            "order": null,
            "overflow": null,
            "overflow_x": null,
            "overflow_y": null,
            "padding": null,
            "right": null,
            "top": null,
            "visibility": null,
            "width": null
          }
        },
        "4c7a477a6e5349418d7715602a94cfd5": {
          "model_module": "@jupyter-widgets/controls",
          "model_name": "DescriptionStyleModel",
          "model_module_version": "1.5.0",
          "state": {
            "_model_module": "@jupyter-widgets/controls",
            "_model_module_version": "1.5.0",
            "_model_name": "DescriptionStyleModel",
            "_view_count": null,
            "_view_module": "@jupyter-widgets/base",
            "_view_module_version": "1.2.0",
            "_view_name": "StyleView",
            "description_width": ""
          }
        }
      }
    }
  },
  "nbformat": 4,
  "nbformat_minor": 0
}